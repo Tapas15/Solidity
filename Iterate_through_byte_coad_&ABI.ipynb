{
  "nbformat": 4,
  "nbformat_minor": 0,
  "metadata": {
    "colab": {
      "name": "Iterate_through_byte_coad_&ABI.ipynb",
      "provenance": [],
      "authorship_tag": "ABX9TyPOi8lO94E/g9cbZfiYxrv2",
      "include_colab_link": true
    },
    "kernelspec": {
      "name": "python3",
      "display_name": "Python 3"
    },
    "language_info": {
      "name": "python"
    }
  },
  "cells": [
    {
      "cell_type": "markdown",
      "metadata": {
        "id": "view-in-github",
        "colab_type": "text"
      },
      "source": [
        "<a href=\"https://colab.research.google.com/github/Tapas15/solidity/blob/master/Iterate_through_byte_coad_%26ABI.ipynb\" target=\"_parent\"><img src=\"https://colab.research.google.com/assets/colab-badge.svg\" alt=\"Open In Colab\"/></a>"
      ]
    },
    {
      "cell_type": "markdown",
      "source": [
        "##** Buid a solidity simple smart contract and view its contents **"
      ],
      "metadata": {
        "id": "rBPQh2d_HaiX"
      }
    },
    {
      "cell_type": "code",
      "execution_count": null,
      "metadata": {
        "id": "lpT5Wm3GG3RA"
      },
      "outputs": [],
      "source": [
        ""
      ]
    },
    {
      "cell_type": "code",
      "source": [
        ""
      ],
      "metadata": {
        "id": "uP2j8FfLHZmp"
      },
      "execution_count": null,
      "outputs": []
    }
  ]
}