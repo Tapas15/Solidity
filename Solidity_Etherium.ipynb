{
  "nbformat": 4,
  "nbformat_minor": 0,
  "metadata": {
    "colab": {
      "name": "Solidity_Etherium.ipynb",
      "provenance": [],
      "authorship_tag": "ABX9TyP+h0a24yQqJrLyTOBbaTPi",
      "include_colab_link": true
    },
    "kernelspec": {
      "name": "python3",
      "display_name": "Python 3"
    },
    "language_info": {
      "name": "python"
    }
  },
  "cells": [
    {
      "cell_type": "markdown",
      "metadata": {
        "id": "view-in-github",
        "colab_type": "text"
      },
      "source": [
        "<a href=\"https://colab.research.google.com/github/Tapas15/solidity/blob/master/Solidity_Etherium.ipynb\" target=\"_parent\"><img src=\"https://colab.research.google.com/assets/colab-badge.svg\" alt=\"Open In Colab\"/></a>"
      ]
    },
    {
      "cell_type": "markdown",
      "source": [
        "# Solidity programming learning resources \n",
        "### Amazon and other books link\n",
        "https://www.amazon.in/Programming-Solidity-Guide-Building-Contracts-ebook/dp/B09FFG58JZ\n",
        "\n",
        "https://www.amazon.in/Programming-Solidity-Guide-Building-Contracts-ebook/dp/B09FFG58JZ\n",
        "\n",
        "https://www.amazon.in/Hands-Contract-Development-Solidity-Ethereum-ebook/dp/B081ZF73L8\n",
        "\n",
        "https://www.amazon.in/Solidity-Programming-Essentials-beginners-blockchain-ebook/dp/B078YYB2SM\n",
        "\n",
        "https://www.amazon.in/Hands-Contract-Development-Solidity-Ethereum/dp/1492045268\n",
        "\n",
        "https://www.amazon.in/Hands-Contract-Development-Solidity-Ethereum/dp/1492045268\n",
        "\n",
        "https://www.amazon.in/Mastering-Blockchain-Programming-Solidity-production-ready-ebook/dp/B07W5F8S1L\n",
        "\n",
        "https://www.amazon.in/Programming-Solidity-Guide-Building-Contracts-ebook/\n",
        "\n",
        "https://www.amazon.com/Solidity-Smart-Contracts-Ethereum-Blockchain-ebook/dp/B07NJ96D9G<br>\n",
        "Best book guide <br>\n",
        "https://bookauthority.org/books/best-solidity-books \n",
        "\n",
        "https://www.reddit.com/r/solidity/comments/pbbnaw/best_book_to_learn_solidity/\n",
        "\n",
        "https://reactdom.com/solidity/\n",
        "\n",
        "<br>\n",
        "PdfDrive \n",
        "\n",
        "https://www.pdfdrive.com/introducing-ethereum-and-solidity-d55011511.html\n",
        "\n",
        "https://www.pdfdrive.com/introducing-ethereum-and-solidity-foundations-of-cryptocurrency-and-blockchain-programming-for-beginners-e158243471.html\n",
        "\n",
        "https://www.pdfdrive.com/ethereum-books.html\n",
        "\n",
        "\n",
        "https://www.pdfdrive.com/introducing-ethereum-and-solidity-foundations-of-cryptocurrency-and-blockchain-programming-for-beginners-e195231016.html\n",
        "\n",
        "https://www.pdfdrive.com/mastering-ethereum-building-smart-contracts-and-dapps-e195220915.html\n",
        "\n",
        "https://www.pdfdrive.com/building-games-with-ethereum-smart-contracts-intermediate-projects-for-solidity-developers-e187725448.html\n",
        "\n",
        "https://www.pdfdrive.com/ethereum-for-architects-and-developers-with-case-studies-and-code-samples-in-solidity-e183868749.html\n",
        "\n",
        "https://www.pdfdrive.com/mastering-ethereum-building-smart-contracts-and-dapps-e196907649.html\n",
        "\n",
        "https://www.pdfdrive.com/building-games-with-ethereum-smart-contracts-intermediate-projects-for-solidity-developers-e195242517.html\n",
        "\n",
        "https://www.pdfdrive.com/a-developers-guide-to-ethereum-e195227481.html\n",
        "\n",
        "Github<br>\n",
        "https://github.com/ethereumbook/ethereumbook\n",
        "\n",
        "https://github.com/ethereumbook\n",
        "\n",
        "https://github.com/ethereum/solidity\n",
        "\n",
        "https://github.com/gakonst/solidity-book\n",
        "\n",
        "https://github.com/bkrem/awesome-solidity\n",
        "\n",
        "https://github.com/matheusroleal/solidity-cookbook\n",
        "\n",
        "https://github.com/chrisdannen/Introducing-Ethereum-and-Solidity\n",
        "\n",
        "https://github.com/ethereumbook/ethereumbook/blob/develop/07smart-contracts-solidity.asciidoc\n",
        "\n",
        "https://github.com/PacktPublishing/Mastering-Blockchain-Programming-with-Solidity/blob/master/README.md\n",
        "\n",
        "https://github.com/willitscale/learning-solidity\n",
        "\n",
        "\n",
        "\n",
        "\n",
        "\n",
        "\n",
        "\n",
        "PDF\n",
        "\n",
        "https://docs.aws.amazon.com/blockchain-templates/latest/developerguide/blockchain-templates-dg.pdf\n"
      ],
      "metadata": {
        "id": "cTBrQ4Lcol-Z"
      }
    },
    {
      "cell_type": "markdown",
      "source": [
        "## Nft tutorial smart contract audit\n",
        "https://www.freecodecamp.org/news/solidity-tutorial-hardhat-nfts/\n",
        "https://blog.quillhash.com/2021/11/10/5-most-prominent-smart-contract-auditing-tools/\n",
        "https://assets.website-files.com/5f99eb79d508ca853be5f2e8/61485a07451b93af18eeea51_IXS%20SC%20Audit.pdf\n",
        "\n",
        "https://github.com/TechRate/Smart-Contract-Audits/blob/main/LITTLE%20RABBIT%20Full%20Smart%20Contract%20Security%20Audit.pdf\n",
        "https://101blockchains.com/smart-contract-audit/<br>\n",
        "https://www.devteam.space/blog/how-to-audit-a-smart-contract-a-guide/\n",
        "https://www.semanticscholar.org/paper/Auditing-with-smart-contracts-Rozario-Vasarhelyi/3122b35e03fb9758108550327d493e2e4748ad2d\n",
        "https://algogard.com/audits/GARD-March-2022-Vantage-Point-Audit.pdf\n",
        "https://media.kaspersky.com/en/business-security/case-studies/tael-blockchain-smart-contract-audit-case-study.pdf\n",
        "https://www.mobiloitte.com/blockchain/smart-contract-audit-development/\n",
        "https://cointelegraph.com/blockchain-for-beginners/what-is-a-smart-contract-security-audit-a-beginners-guide\n",
        "https://www.pdfdrive.com/ethereum-smart-contracts-security-vulnerabilities-and-security-tools-e51986320.html\n",
        "## GitHub smart contract audit \n",
        "https://github.com/TechRate/Smart-Contract-Audits\n",
        "https://github.com/vietlq/smart-contract-audit\n",
        "https://github.com/interfinetwork/smart-contract-audits\n",
        "https://github.com/topics/smart-contracts-audit\n",
        "https://github.com/chainsulting/Smart-Contract-Security-Audits\n",
        "https://github.com/Tech-Audit/Smart-Contract-Audits\n",
        "https://github.com/solidproof/smart-contract-audits\n",
        "https://github.com/ContractWolf/smart-contract-audits\n",
        "https://github.com/EthereumCommonwealth/Auditing\n",
        "https://github.com/somish/smartcontract-audits\n",
        "https://github.com/interfinetwork/smart-contract-audits/blob/audit-updates/README.md\n",
        "https://halborn.com/resources/\n",
        "https://0xguard.com\n",
        "https://www.getastra.com/blog/security-audit/smart-contract-security/\n",
        "https://consensys.github.io/blockchainSecurityDB/\n",
        "https://consensys.github.io/smart-contract-best-practices/\n",
        "https://cmichel.io/how-to-become-a-smart-contract-auditor/\n",
        "https://quillhashteam.medium.com/btc-proxy-smart-contract-audit-report-btc-proxy-smart-contract-audit-report-2021-quillaudits-e852958d3f02\n",
        "https://medium.com/mixbytes/a-practical-guide-to-smart-contract-security-tools-part-1-introduction-b186ecd963d6\n",
        "https://whitepaper.bombcrypto.io/smart-contract-and-github-report\n",
        "https://consensys.net/diligence/\n",
        "https://twitter.com/safestar_/status/1380078496131731456\n",
        "https://github.com/TechRate/Smart-Contract-Audits/blob/main/March/LESLAR%20Metaverse%20Full%20Smart%20Contract%20Security%20Audit.pdf\n",
        "https://www.adrianhetman.com/how-to-become-smart-contract-auditor/\n",
        "\n",
        "\n"
      ],
      "metadata": {
        "id": "IFEUvxh9CVRJ"
      }
    },
    {
      "cell_type": "code",
      "execution_count": null,
      "metadata": {
        "id": "4USjHdIQolFy"
      },
      "outputs": [],
      "source": [
        ""
      ]
    }
  ]
}